{
 "cells": [
  {
   "cell_type": "code",
   "execution_count": null,
   "metadata": {},
   "outputs": [],
   "source": [
    "import torch\n",
    "import numpy as np\n",
    "import torch.nn as nn\n",
    "from torch import optim\n",
    "from torch.utils.data import Dataset, DataLoader"
   ]
  },
  {
   "cell_type": "code",
   "execution_count": null,
   "metadata": {},
   "outputs": [],
   "source": [
    "evalx = np.load(\"../data/dev.npy\", allow_pickle=True)\n",
    "evaly = np.load(\"../data/dev_labels.npy\", allow_pickle=True)"
   ]
  },
  {
   "cell_type": "code",
   "execution_count": null,
   "metadata": {},
   "outputs": [],
   "source": [
    "class simpleDataset(Dataset):\n",
    "    def __init__(self, x, y, context_size=12):\n",
    "        super().__init__()\n",
    "        self.x = np.concatenate(x)\n",
    "        self.y = np.concatenate(y)\n",
    "        self.context_size = context_size\n",
    "        \n",
    "        # padding\n",
    "        before = np.zeros((context_size, self.x.shape[1]))\n",
    "        after = np.zeros((context_size, self.x.shape[1]))\n",
    "        self.x = np.concatenate([before, self.x, after], axis=0)\n",
    "    \n",
    "    def __len__(self):\n",
    "        return len(self.x) - 2 * self.context_size\n",
    "\n",
    "    def __getitem__(self, index):\n",
    "        x_item = self.x[index : (index+2*self.context_size+1)].reshape(-1)\n",
    "        y_item = self.y[index]\n",
    "        return torch.from_numpy(x_item).float(), y_item\n",
    "\n",
    "class MLP(nn.Module):\n",
    "    def __init__(self, context_size):\n",
    "        super().__init__()\n",
    "        self.net = nn.Sequential(\n",
    "            nn.Linear(1000, 1024),\n",
    "            nn.ReLU(),\n",
    "            nn.Linear(1024, 1024),\n",
    "            nn.ReLU(),\n",
    "            nn.Linear(1024, 1024),\n",
    "            nn.ReLU(),\n",
    "            nn.Linear(1024, 138)\n",
    "        )\n",
    "    \n",
    "    def forward(self, input):\n",
    "        return self.net(input)"
   ]
  },
  {
   "cell_type": "code",
   "execution_count": null,
   "metadata": {},
   "outputs": [],
   "source": [
    "torch.manual_seed(0)\n",
    "\n",
    "eval_dataset = simpleDataset(evalx[:5], evaly[:5], context_size=12)\n",
    "eval_dataloader = DataLoader(eval_dataset, batch_size=256, shuffle=True, num_workers=0)\n",
    "\n",
    "model = MLP(context_size=12)\n",
    "criterion = nn.CrossEntropyLoss()\n",
    "optimizer = optim.Adam(model.parameters(), lr=1e-3)\n",
    "curr_epoch = 0"
   ]
  },
  {
   "cell_type": "code",
   "execution_count": null,
   "metadata": {
    "scrolled": true
   },
   "outputs": [],
   "source": [
    "# for epoch\n",
    "for i in range(100):\n",
    "    running_loss = 0.0\n",
    "    total, correct = 0, 0\n",
    "    for batch_idx, (data, target) in enumerate(eval_dataloader):\n",
    "        optimizer.zero_grad()\n",
    "        \n",
    "        outputs = model(data)\n",
    "        loss = criterion(outputs, target)\n",
    "        loss.backward()\n",
    "        optimizer.step()\n",
    "        \n",
    "        running_loss += loss.item()\n",
    "        \n",
    "        _, predicted = torch.max(outputs.data, 1)\n",
    "        predicted.detach_()\n",
    "        total += target.size(0)\n",
    "        correct += (predicted == target).sum().item()\n",
    "    curr_epoch += 1\n",
    "    print(\"{}th epoch \".format(curr_epoch) +\n",
    "          \"loss: {:.4} \".format(running_loss / len(eval_dataloader)) + \n",
    "          \"acc: {:.4}%\".format(correct / total * 100))"
   ]
  },
  {
   "cell_type": "code",
   "execution_count": null,
   "metadata": {},
   "outputs": [],
   "source": [
    "with torch.no_grad():\n",
    "    total, correct = 0, 0\n",
    "    for batch_idx, (data, target) in enumerate(eval_dataloader):\n",
    "        outputs = model(data)\n",
    "        _, predicted = torch.max(outputs.data, 1)\n",
    "        total += target.size(0)\n",
    "        correct += (predicted == target).sum().item()\n",
    "\n",
    "print(\"accuracy: {}%\".format(correct/total * 100))"
   ]
  }
 ],
 "metadata": {
  "kernelspec": {
   "display_name": "Python 3",
   "language": "python",
   "name": "python3"
  },
  "language_info": {
   "codemirror_mode": {
    "name": "ipython",
    "version": 3
   },
   "file_extension": ".py",
   "mimetype": "text/x-python",
   "name": "python",
   "nbconvert_exporter": "python",
   "pygments_lexer": "ipython3",
   "version": "3.6.4"
  }
 },
 "nbformat": 4,
 "nbformat_minor": 2
}
